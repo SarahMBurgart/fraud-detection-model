{
 "cells": [
  {
   "cell_type": "code",
   "execution_count": 73,
   "metadata": {},
   "outputs": [],
   "source": [
    "import pandas as pd\n",
    "import numpy as np\n",
    "import matplotlib.pyplot as plt\n",
    "import nltk\n",
    "from nltk.corpus import stopwords, wordnet\n",
    "from nltk.tokenize import RegexpTokenizer, sent_tokenize, word_tokenize\n",
    "from nltk.probability import FreqDist\n",
    "from nltk.stem.wordnet import WordNetLemmatizer\n",
    "from nltk.stem.porter import PorterStemmer\n",
    "from sklearn.decomposition import PCA, NMF, TruncatedSVD\n",
    "from sklearn import metrics\n",
    "from sklearn.feature_extraction.text import TfidfVectorizer, CountVectorizer\n",
    "from sklearn.model_selection import train_test_split, GridSearchCV\n",
    "import functions as f\n",
    "from sklearn.naive_bayes import MultinomialNB\n",
    "from sklearn.linear_model import SGDClassifier\n",
    "from sklearn.preprocessing import StandardScaler\n",
    "from sklearn.cluster import KMeans\n",
    "from sklearn.linear_model import LogisticRegression\n",
    "import pickle"
   ]
  },
  {
   "cell_type": "markdown",
   "metadata": {},
   "source": [
    "#### functions"
   ]
  },
  {
   "cell_type": "code",
   "execution_count": 4,
   "metadata": {},
   "outputs": [],
   "source": [
    "def get_wordnet_pos(treebank_tag):\n",
    "\n",
    "    if treebank_tag.startswith('J'):\n",
    "        return wordnet.ADJ\n",
    "    elif treebank_tag.startswith('V'):\n",
    "        return wordnet.VERB\n",
    "    elif treebank_tag.startswith('N'):\n",
    "        return wordnet.NOUN\n",
    "    elif treebank_tag.startswith('R'):\n",
    "        return wordnet.ADV\n",
    "    else:\n",
    "        return wordnet.NOUN"
   ]
  },
  {
   "cell_type": "code",
   "execution_count": 5,
   "metadata": {},
   "outputs": [],
   "source": [
    "def to_lemma(text):\n",
    "    # takes text, returns lemmatized words\n",
    "    # remove nonsense\n",
    "    if type(text) != str:\n",
    "        text = str(text)\n",
    "    scrubbed = f.scrub_words(text)\n",
    "    # word tokenize\n",
    "    tokenized_word = word_tokenize(scrubbed)\n",
    "    # lower case the words for better frequency, tf-idf\n",
    "    tokens_lower = [word.lower() for word in tokenized_word]\n",
    "    # remove stopwords\n",
    "    stop_words=set(stopwords.words(\"english\"))\n",
    "    filtered_desc = []\n",
    "    for w in tokens_lower:\n",
    "        if w not in stop_words:\n",
    "            filtered_desc.append(w)\n",
    "    # for lemmatization, need to pass part of speech\n",
    "    pos = nltk.pos_tag(filtered_desc)\n",
    "    # lemmatization with pos \n",
    "    lem = WordNetLemmatizer()\n",
    "    lemmed_words = \"\"\n",
    "    for w,p in pos:\n",
    "        p_new = get_wordnet_pos(p)\n",
    "        lemmed_words += f\" {(lem.lemmatize(w,p_new))},\"\n",
    "    return lemmed_words"
   ]
  },
  {
   "cell_type": "markdown",
   "metadata": {},
   "source": [
    "#### load data / start here"
   ]
  },
  {
   "cell_type": "code",
   "execution_count": 3,
   "metadata": {},
   "outputs": [],
   "source": [
    "# save bc that took a loooong time\n",
    "df_lem = pd.read_csv('data/S_lemmed.csv')"
   ]
  },
  {
   "cell_type": "code",
   "execution_count": 133,
   "metadata": {},
   "outputs": [],
   "source": [
    "len(lemmed)\n",
    "type(lemmed)\n",
    "lemmed = df_lem[\"lemmed\"]\n",
    "lemmed.fillna(\"\", inplace=True)"
   ]
  },
  {
   "cell_type": "code",
   "execution_count": 134,
   "metadata": {},
   "outputs": [
    {
     "data": {
      "text/plain": [
       "(14337, 14337)"
      ]
     },
     "execution_count": 134,
     "metadata": {},
     "output_type": "execute_result"
    }
   ],
   "source": [
    "len(lemmed), len(target)"
   ]
  },
  {
   "cell_type": "code",
   "execution_count": 135,
   "metadata": {},
   "outputs": [],
   "source": [
    "lemmed.replace(\" nan,\", \"\", inplace=True)"
   ]
  },
  {
   "cell_type": "code",
   "execution_count": 136,
   "metadata": {},
   "outputs": [],
   "source": [
    "lem = list(lemmed)\n",
    "new_lemmed = []\n",
    "for string in lem:\n",
    "    new_str = ''\n",
    "    s = string.split(\",\")\n",
    "    for word in s:\n",
    "        if len(word) > 3:\n",
    "            new_str += f\"{word},\"\n",
    "        else:\n",
    "            pass\n",
    "    new_lemmed.append(new_str)\n",
    "            "
   ]
  },
  {
   "cell_type": "code",
   "execution_count": 361,
   "metadata": {},
   "outputs": [
    {
     "data": {
      "text/plain": [
       "list"
      ]
     },
     "execution_count": 361,
     "metadata": {},
     "output_type": "execute_result"
    }
   ],
   "source": [
    "type(new_lemmed)"
   ]
  },
  {
   "cell_type": "code",
   "execution_count": 82,
   "metadata": {},
   "outputs": [],
   "source": [
    "# frequency distribution\n",
    "fdist = FreqDist(new_lemmed)\n",
    "# most common two words\n",
    "#fdist.most_common(10)"
   ]
  },
  {
   "cell_type": "markdown",
   "metadata": {},
   "source": [
    "### Feature Generation"
   ]
  },
  {
   "cell_type": "code",
   "execution_count": 18,
   "metadata": {},
   "outputs": [
    {
     "data": {
      "text/plain": [
       "<45x43 sparse matrix of type '<class 'numpy.int64'>'\n",
       "\twith 44 stored elements in Compressed Sparse Row format>"
      ]
     },
     "execution_count": 18,
     "metadata": {},
     "output_type": "execute_result"
    }
   ],
   "source": [
    "# Document Term Matrix - really needs a Series (Bag of Words)\n",
    "cv = CountVectorizer(lowercase=True,stop_words='english',ngram_range = (1,1), max_features = 5000)\n",
    "text_counts= cv.fit_transform(lemmed)\n",
    "text_counts"
   ]
  },
  {
   "cell_type": "code",
   "execution_count": 191,
   "metadata": {},
   "outputs": [
    {
     "data": {
      "text/plain": [
       "<14337x10000 sparse matrix of type '<class 'numpy.float64'>'\n",
       "\twith 955062 stored elements in Compressed Sparse Row format>"
      ]
     },
     "execution_count": 191,
     "metadata": {},
     "output_type": "execute_result"
    }
   ],
   "source": [
    "# TF-IDF, normalizes the DTM\n",
    "tf = TfidfVectorizer(stop_words='english', analyzer = \"word\", max_features = 10000)\n",
    "text_tf = tf.fit_transform(new_lemmed)\n",
    "text_tf"
   ]
  },
  {
   "cell_type": "markdown",
   "metadata": {},
   "source": [
    "### Dimensionality Reduction"
   ]
  },
  {
   "cell_type": "code",
   "execution_count": 203,
   "metadata": {},
   "outputs": [],
   "source": [
    "# could try truncatedSVD\n",
    "# np.linalg.inv - svd, pca\n",
    "model = NMF(n_components=20, init='random', random_state=42)"
   ]
  },
  {
   "cell_type": "code",
   "execution_count": 204,
   "metadata": {},
   "outputs": [],
   "source": [
    "W = model.fit_transform(text_tf.T)\n",
    "H = model.components_"
   ]
  },
  {
   "cell_type": "code",
   "execution_count": 205,
   "metadata": {},
   "outputs": [
    {
     "data": {
      "text/plain": [
       "((10000, 20), (20, 14337))"
      ]
     },
     "execution_count": 205,
     "metadata": {},
     "output_type": "execute_result"
    }
   ],
   "source": [
    "# W -> W(:,k) kth topic\n",
    "# H -> H(j,k) importance of kth topic to jth doc\n",
    "# X (text_tf.T) -> X(:, j) jth doc\n",
    "W.shape, H.shape"
   ]
  },
  {
   "cell_type": "code",
   "execution_count": 206,
   "metadata": {},
   "outputs": [],
   "source": [
    "descriptions = H.T\n",
    "des = pd.DataFrame(descriptions)"
   ]
  },
  {
   "cell_type": "code",
   "execution_count": 207,
   "metadata": {},
   "outputs": [],
   "source": [
    "\n",
    "des[\"max_feat\"] = des.idxmax(axis=0)"
   ]
  },
  {
   "cell_type": "code",
   "execution_count": 208,
   "metadata": {},
   "outputs": [],
   "source": [
    "des[\"target\"] = target[\"fraud\"]\n"
   ]
  },
  {
   "cell_type": "code",
   "execution_count": 209,
   "metadata": {},
   "outputs": [],
   "source": [
    "descrips = des.drop([\"max_feat\", \"target\"], axis=1)"
   ]
  },
  {
   "cell_type": "code",
   "execution_count": 210,
   "metadata": {},
   "outputs": [],
   "source": [
    "X_train, X_test, y_train, y_test = train_test_split(descrips, target['fraud'], test_size=0.3, random_state=42)"
   ]
  },
  {
   "cell_type": "code",
   "execution_count": 211,
   "metadata": {},
   "outputs": [
    {
     "name": "stdout",
     "output_type": "stream",
     "text": [
      "[LibLinear]"
     ]
    },
    {
     "name": "stderr",
     "output_type": "stream",
     "text": [
      "/Users/sarahburgart/anaconda3/lib/python3.7/site-packages/sklearn/linear_model/logistic.py:432: FutureWarning: Default solver will be changed to 'lbfgs' in 0.22. Specify a solver to silence this warning.\n",
      "  FutureWarning)\n"
     ]
    }
   ],
   "source": [
    "lr = LogisticRegression(random_state=42, verbose=1).fit(X_train, y_train)"
   ]
  },
  {
   "cell_type": "code",
   "execution_count": 212,
   "metadata": {},
   "outputs": [],
   "source": [
    "yhats = lr.predict(X_test)"
   ]
  },
  {
   "cell_type": "code",
   "execution_count": 213,
   "metadata": {},
   "outputs": [
    {
     "data": {
      "text/plain": [
       "0.907717340771734"
      ]
     },
     "execution_count": 213,
     "metadata": {},
     "output_type": "execute_result"
    }
   ],
   "source": [
    "sum(y_test == yhats)/ len(yhats)"
   ]
  },
  {
   "cell_type": "code",
   "execution_count": 214,
   "metadata": {},
   "outputs": [
    {
     "data": {
      "text/plain": [
       "array([[-0.58050531, -0.97416613,  0.82823368, -3.29661609, -2.50583237,\n",
       "         2.28757118, -1.59572779, -0.4543123 , -7.04081796, -3.19072525,\n",
       "        -1.93208437, -2.88844962, -1.18285352, -2.22946043, -2.16803206,\n",
       "        -2.14209495,  4.88235658, -2.98468976, -1.18357188, -2.00726382]])"
      ]
     },
     "execution_count": 214,
     "metadata": {},
     "output_type": "execute_result"
    }
   ],
   "source": [
    "lr.coef_"
   ]
  },
  {
   "cell_type": "code",
   "execution_count": 215,
   "metadata": {},
   "outputs": [],
   "source": [
    "features = pd.DataFrame(W)\n",
    "feats = tf.get_feature_names()\n",
    "features[\"names\"] = feats\n",
    "features.set_index(\"names\", inplace=True)"
   ]
  },
  {
   "cell_type": "code",
   "execution_count": 358,
   "metadata": {},
   "outputs": [],
   "source": [
    "coeffs = features * lr.coef_\n",
    "coeffs[\"total\"] = coeffs.sum(axis=1)\n",
    "words_coeffs_dict = coeffs[\"total\"].to_dict()"
   ]
  },
  {
   "cell_type": "code",
   "execution_count": 247,
   "metadata": {},
   "outputs": [],
   "source": [
    "words_coeffs_dict = coeffs[\"total\"].to_dict()"
   ]
  },
  {
   "cell_type": "code",
   "execution_count": 298,
   "metadata": {},
   "outputs": [],
   "source": [
    "\n",
    "with open('data/words_coeffs_dict', 'wb') as sweet:\n",
    "    pickle.dump(words_coeffs_dict, sweet)"
   ]
  },
  {
   "cell_type": "code",
   "execution_count": 333,
   "metadata": {},
   "outputs": [],
   "source": [
    "with open('data/words_coeffs_dict', 'rb') as sweet:\n",
    "        wcd = pickle.load(sweet)"
   ]
  },
  {
   "cell_type": "code",
   "execution_count": 347,
   "metadata": {},
   "outputs": [],
   "source": [
    "def words_coeff(list_words):\n",
    "    # bring in dictionary\n",
    "    with open('data/words_coeffs_dict.txt', 'rb') as handle:\n",
    "        wcd = pickle.load(handle)\n",
    "    total = 0\n",
    "    # count number of each word\n",
    "    l = list_words.split(\",\")\n",
    "    fd = FreqDist(l)\n",
    "    for k,v in fd.items():\n",
    "        k = k.strip()\n",
    "        if k in wcd.keys():\n",
    "            total += (wcd[k] * v)\n",
    "        else:\n",
    "            pass\n",
    "    return total\n",
    "        \n",
    "    \n",
    "    "
   ]
  },
  {
   "cell_type": "code",
   "execution_count": 364,
   "metadata": {},
   "outputs": [
    {
     "data": {
      "text/plain": [
       "(-124.96758509416024, str)"
      ]
     },
     "execution_count": 364,
     "metadata": {},
     "output_type": "execute_result"
    }
   ],
   "source": [
    "words_coeff(lemmed[10]), type(lemmed[10])"
   ]
  },
  {
   "cell_type": "code",
   "execution_count": 299,
   "metadata": {},
   "outputs": [],
   "source": [
    "with open('data/words_coeffs_dict.txt', 'rb') as handle:\n",
    "        wcd = pickle.load(handle)"
   ]
  },
  {
   "cell_type": "code",
   "execution_count": 336,
   "metadata": {},
   "outputs": [
    {
     "data": {
      "text/plain": [
       "2.330430140808307"
      ]
     },
     "execution_count": 336,
     "metadata": {},
     "output_type": "execute_result"
    }
   ],
   "source": [
    "wcd['party']"
   ]
  },
  {
   "cell_type": "markdown",
   "metadata": {},
   "source": [
    "## TEST with word_coeff + rest of df ModelLR"
   ]
  },
  {
   "cell_type": "code",
   "execution_count": 365,
   "metadata": {},
   "outputs": [],
   "source": [
    "with open('website/modelX2.pkl', 'rb') as handle:\n",
    "        rff = pickle.load(handle)"
   ]
  },
  {
   "cell_type": "code",
   "execution_count": 367,
   "metadata": {},
   "outputs": [
    {
     "data": {
      "text/plain": [
       "0.9741926483922717"
      ]
     },
     "execution_count": 367,
     "metadata": {},
     "output_type": "execute_result"
    }
   ],
   "source": [
    "rff.oob_score_"
   ]
  },
  {
   "cell_type": "code",
   "execution_count": null,
   "metadata": {},
   "outputs": [],
   "source": []
  }
 ],
 "metadata": {
  "kernelspec": {
   "display_name": "Python 3",
   "language": "python",
   "name": "python3"
  },
  "language_info": {
   "codemirror_mode": {
    "name": "ipython",
    "version": 3
   },
   "file_extension": ".py",
   "mimetype": "text/x-python",
   "name": "python",
   "nbconvert_exporter": "python",
   "pygments_lexer": "ipython3",
   "version": "3.7.3"
  }
 },
 "nbformat": 4,
 "nbformat_minor": 2
}
